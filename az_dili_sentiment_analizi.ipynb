{
  "nbformat": 4,
  "nbformat_minor": 0,
  "metadata": {
    "colab": {
      "provenance": [],
      "authorship_tag": "ABX9TyPC/hOSkGkVxHSR3+TCXPdF",
      "include_colab_link": true
    },
    "kernelspec": {
      "name": "python3",
      "display_name": "Python 3"
    },
    "language_info": {
      "name": "python"
    }
  },
  "cells": [
    {
      "cell_type": "markdown",
      "metadata": {
        "id": "view-in-github",
        "colab_type": "text"
      },
      "source": [
        "<a href=\"https://colab.research.google.com/github/nasirmovlamov/bildiraz-sentiment-analizi/blob/main/az_dili_sentiment_analizi.ipynb\" target=\"_parent\"><img src=\"https://colab.research.google.com/assets/colab-badge.svg\" alt=\"Open In Colab\"/></a>"
      ]
    },
    {
      "cell_type": "code",
      "execution_count": null,
      "metadata": {
        "colab": {
          "base_uri": "https://localhost:8080/"
        },
        "id": "xX1bIG3v0tJq",
        "outputId": "bca152fc-d7c3-408c-c923-8eea79144421"
      },
      "outputs": [
        {
          "output_type": "stream",
          "name": "stdout",
          "text": [
            "The modified dataset is saved to modified_bildir_dataset.csv\n"
          ]
        }
      ],
      "source": [
        "import pandas as pd\n",
        "\n",
        "# Step 1: Read the CSV file\n",
        "file_path = 'bildir_dataset.csv'\n",
        "df = pd.read_csv(file_path)\n",
        "\n",
        "# Step 2: Remove the URL column\n",
        "df.drop(columns=['URL'], inplace=True)\n",
        "\n",
        "# Step 3: Save the modified DataFrame to a new CSV file\n",
        "output_file_path = 'modified_bildir_dataset.csv'\n",
        "df.to_csv(output_file_path, index=False)\n",
        "\n",
        "print(f\"The modified dataset is saved to {output_file_path}\")\n"
      ]
    },
    {
      "cell_type": "markdown",
      "source": [
        "Clean data from russian text"
      ],
      "metadata": {
        "id": "6VXdQQoi1Wgr"
      }
    },
    {
      "cell_type": "code",
      "source": [
        "import pandas as pd\n",
        "import re\n",
        "\n",
        "# Function to detect Russian text\n",
        "def contains_russian(text):\n",
        "    return bool(re.search('[\\u0400-\\u04FF]', text))\n",
        "\n",
        "# Step 1: Read the CSV file\n",
        "file_path = 'modified_bildir_dataset.csv'\n",
        "df = pd.read_csv(file_path)\n",
        "\n",
        "# Step 2: Identify rows with Russian texts\n",
        "rows_to_drop = df.apply(lambda row: any(contains_russian(str(cell)) for cell in row), axis=1)\n",
        "\n",
        "# Step 3: Remove the identified rows\n",
        "df_cleaned = df[~rows_to_drop]\n",
        "\n",
        "# Step 4: Save the modified DataFrame to a new CSV file\n",
        "output_file_path = 'modified_bildir_dataset.csv'\n",
        "df_cleaned.to_csv(output_file_path, index=False)\n",
        "\n",
        "print(f\"The cleaned dataset is saved to {output_file_path}\")\n"
      ],
      "metadata": {
        "colab": {
          "base_uri": "https://localhost:8080/"
        },
        "id": "0ficVfkD1V4s",
        "outputId": "a41eb782-380b-49ef-eef6-541e65c75704"
      },
      "execution_count": null,
      "outputs": [
        {
          "output_type": "stream",
          "name": "stdout",
          "text": [
            "The cleaned dataset is saved to modified_bildir_dataset.csv\n"
          ]
        }
      ]
    },
    {
      "cell_type": "code",
      "source": [
        "import pandas as pd\n",
        "import re\n",
        "\n",
        "# Function to clean text\n",
        "def clean_text(text):\n",
        "    # Remove special characters and convert to lowercase\n",
        "    text = re.sub(r'[^a-zA-Z0-9\\s]', '', text)\n",
        "    return text.lower()\n",
        "\n",
        "# Read the CSV file\n",
        "file_path = 'modified_bildir_dataset.csv'\n",
        "df = pd.read_csv(file_path)\n",
        "\n",
        "# Clean the 'Comment' column: convert to lowercase and remove special characters\n",
        "df['Comment'] = df['Comment'].apply(lambda x: clean_text(str(x)))\n",
        "\n",
        "# Save the cleaned DataFrame to a new CSV file\n",
        "output_file_path = 'modified_bildir_dataset.csv'\n",
        "df.to_csv(output_file_path, index=False)\n",
        "\n",
        "print(f\"The cleaned dataset is saved to {output_file_path}\")\n"
      ],
      "metadata": {
        "colab": {
          "base_uri": "https://localhost:8080/"
        },
        "id": "I_smYWuE13K9",
        "outputId": "9b9da2db-921d-4852-be25-08b91ec76549"
      },
      "execution_count": null,
      "outputs": [
        {
          "output_type": "stream",
          "name": "stdout",
          "text": [
            "The cleaned dataset is saved to modified_bildir_dataset.csv\n"
          ]
        }
      ]
    },
    {
      "cell_type": "code",
      "source": [
        "import pandas as pd\n",
        "\n",
        "# Read the cleaned CSV file\n",
        "cleaned_file_path = 'modified_bildir_dataset.csv'\n",
        "cleaned_df = pd.read_csv(cleaned_file_path)\n",
        "\n",
        "# Display the first few rows of the cleaned DataFrame\n",
        "print(\"First few rows of the cleaned dataset:\")\n",
        "print(cleaned_df.head())\n"
      ],
      "metadata": {
        "colab": {
          "base_uri": "https://localhost:8080/"
        },
        "id": "RGOHe53B2JYJ",
        "outputId": "ee4625e5-ca34-46e2-e886-84194bacd938"
      },
      "execution_count": null,
      "outputs": [
        {
          "output_type": "stream",
          "name": "stdout",
          "text": [
            "First few rows of the cleaned dataset:\n",
            "      Company  Stars                                            Comment\n",
            "0    Hesab.az      1  salam hesabaz da adm cxmr niy texniki problem ...\n",
            "1        Bolt      5  bu gn sizin taksidn istifad eldim v dz ilk dfd...\n",
            "2         m10      1  salam 0709252262 nomreye pul kocurtmek istedim...\n",
            "3     Expargo      1  salam expargodan shikayetim var uzun muddetdi ...\n",
            "4  Baktelecom      1  mn bayl qsbsi libyov qardaslari 75 mnzil  da y...\n"
          ]
        }
      ]
    },
    {
      "cell_type": "code",
      "source": [
        "import pandas as pd\n",
        "from textblob import TextBlob\n",
        "\n",
        "# Read the CSV file containing your data\n",
        "file_path = 'modified_bildir_dataset.csv'\n",
        "df = pd.read_csv(file_path)\n",
        "\n",
        "# Function to apply sentiment analysis using TextBlob\n",
        "def analyze_sentiment(text):\n",
        "    blob = TextBlob(str(text))\n",
        "    sentiment = blob.sentiment\n",
        "    return sentiment.polarity, sentiment.subjectivity\n",
        "\n",
        "# Apply sentiment analysis to each text entry in the 'Comment' column\n",
        "df['Sentiment'] = df['Comment'].apply(analyze_sentiment)\n",
        "\n",
        "# Save the DataFrame with sentiment analysis results to a new CSV file\n",
        "output_file_path = 'sentiment_analysis_results.csv'\n",
        "df.to_csv(output_file_path, index=False)\n",
        "\n",
        "print(f\"The sentiment analysis results are saved to {output_file_path}\")\n"
      ],
      "metadata": {
        "colab": {
          "base_uri": "https://localhost:8080/"
        },
        "id": "ukcBg0wI2wTe",
        "outputId": "e76981f4-ac9d-4151-c0e2-dd017e5bd36e"
      },
      "execution_count": null,
      "outputs": [
        {
          "output_type": "stream",
          "name": "stdout",
          "text": [
            "The sentiment analysis results are saved to sentiment_analysis_results.csv\n"
          ]
        }
      ]
    },
    {
      "cell_type": "code",
      "source": [
        "import pandas as pd\n",
        "from sklearn.feature_extraction.text import CountVectorizer\n",
        "from sklearn.linear_model import LogisticRegression\n",
        "from sklearn.metrics import accuracy_score\n",
        "\n",
        "# Read the CSV file containing your data\n",
        "file_path = 'modified_bildir_dataset.csv'\n",
        "df = pd.read_csv(file_path)\n",
        "\n",
        "# Define feature (X) and target (y) variables\n",
        "X = df['Comment']\n",
        "y = df['Stars'] > 3  # Convert stars to binary sentiment (positive or negative)\n",
        "\n",
        "# Convert text comments into numerical features using bag-of-words representation\n",
        "vectorizer = CountVectorizer()\n",
        "X_bow = vectorizer.fit_transform(X)\n",
        "\n",
        "# Train logistic regression model\n",
        "model = LogisticRegression()\n",
        "model.fit(X_bow, y)\n",
        "\n",
        "# Function to predict sentiment for a given text\n",
        "def predict_sentiment(text):\n",
        "    text_bow = vectorizer.transform([text])\n",
        "    return \"Positive\" if model.predict(text_bow)[0] else \"Negative\"\n",
        "\n",
        "# Sample text for testing the logistic regression model\n",
        "sample_texts = [\n",
        "    \"Dostum almışdı almaz olaydı\"\n",
        "]\n",
        "\n",
        "# Apply sentiment analysis to each sample text\n",
        "print(\"\\nSample Text Sentiments:\")\n",
        "for text in sample_texts:\n",
        "    sentiment = predict_sentiment(text)\n",
        "    print(f\"Text: {text} - Sentiment: {sentiment}\")\n"
      ],
      "metadata": {
        "colab": {
          "base_uri": "https://localhost:8080/"
        },
        "id": "qaBpvyko23tn",
        "outputId": "7567ca24-170b-4768-fd30-9a8e70a5f6fe"
      },
      "execution_count": null,
      "outputs": [
        {
          "output_type": "stream",
          "name": "stdout",
          "text": [
            "\n",
            "Sample Text Sentiments:\n",
            "Text: Dostum almışdı almaz olaydı - Sentiment: Positive\n"
          ]
        }
      ]
    }
  ]
}